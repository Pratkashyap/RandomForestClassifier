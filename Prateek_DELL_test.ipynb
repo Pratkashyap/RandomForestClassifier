{
 "cells": [
  {
   "cell_type": "code",
   "execution_count": 1,
   "metadata": {},
   "outputs": [],
   "source": [
    "import sys\n",
    "import os\n",
    "import datetime\n",
    "import calendar\n",
    "import csv\n",
    "import time\n",
    "import subprocess\n",
    "import logging as log\n",
    "\n",
    "from pyspark import SparkContext, SparkConf, Row\n",
    "from pyspark.sql import SQLContext, HiveContext, SparkSession\n",
    "import getpass\n",
    "from datetime import timedelta, date\n",
    "from pyspark.sql import DataFrame\n",
    "from pyspark.ml import Pipeline\n",
    "from pyspark.ml.classification import RandomForestClassifier as RF\n",
    "from pyspark.ml.feature import StringIndexer, VectorIndexer, VectorAssembler, SQLTransformer\n",
    "from pyspark.sql.functions import udf, lit, col, coalesce\n",
    "import pyspark.sql.functions as F\n",
    "from pyspark.sql.types import *\n",
    "from subprocess import call\n",
    "import pandas as pd\n",
    "from pyspark.ml.evaluation import MulticlassClassificationEvaluator, BinaryClassificationEvaluator\n",
    "from pyspark.ml.tuning import CrossValidator, ParamGridBuilder\n",
    "import functools\n",
    "from sklearn.metrics import roc_curve, auc\n",
    "from pyspark.ml.feature import OneHotEncoder\n",
    "from matplotlib import pyplot as plt\n",
    "%matplotlib inline\n",
    "import numpy as np"
   ]
  },
  {
   "cell_type": "code",
   "execution_count": 2,
   "metadata": {},
   "outputs": [],
   "source": [
    "df = spark.read.csv('dell_case_study.csv', header=True)"
   ]
  },
  {
   "cell_type": "code",
   "execution_count": 3,
   "metadata": {
    "scrolled": true
   },
   "outputs": [
    {
     "name": "stdout",
     "output_type": "stream",
     "text": [
      "+----------+-----------+-----------+--------+-----------+-----------+---------+--------+--------------+--------+\n",
      "|prod_price|prod_feat_1|prod_feat_2|cust_age|prod_feat_3|cust_region|prod_type|cust_sex|    cust_title|feedback|\n",
      "+----------+-----------+-----------+--------+-----------+-----------+---------+--------+--------------+--------+\n",
      "|      1000|        1.2|        0.2|      34|          A|      south|     Home|       M|       manager|     pos|\n",
      "|     230.5|        3.3|       0.43|    null|          C|      south|     Home|       M|      director|     pos|\n",
      "|       121|       22.3|       1.01|      56|          D|      north| Cleaning|       F|      engineer| Neutral|\n",
      "|       628|        2.2|       0.86|      34|          V|       west|   Beauty|       M|      director|Negetive|\n",
      "|       887|       35.6|       1.08|      43|          A|      south| Cleaning|       F|senior_manager|     pos|\n",
      "+----------+-----------+-----------+--------+-----------+-----------+---------+--------+--------------+--------+\n",
      "only showing top 5 rows\n",
      "\n"
     ]
    }
   ],
   "source": [
    "df.show(5)"
   ]
  },
  {
   "cell_type": "code",
   "execution_count": 4,
   "metadata": {},
   "outputs": [
    {
     "data": {
      "text/plain": [
       "pyspark.sql.dataframe.DataFrame"
      ]
     },
     "execution_count": 4,
     "metadata": {},
     "output_type": "execute_result"
    }
   ],
   "source": [
    "type(df)"
   ]
  },
  {
   "cell_type": "code",
   "execution_count": 5,
   "metadata": {},
   "outputs": [
    {
     "name": "stdout",
     "output_type": "stream",
     "text": [
      "root\n",
      " |-- prod_price: string (nullable = true)\n",
      " |-- prod_feat_1: string (nullable = true)\n",
      " |-- prod_feat_2: string (nullable = true)\n",
      " |-- cust_age: string (nullable = true)\n",
      " |-- prod_feat_3: string (nullable = true)\n",
      " |-- cust_region: string (nullable = true)\n",
      " |-- prod_type: string (nullable = true)\n",
      " |-- cust_sex: string (nullable = true)\n",
      " |-- cust_title: string (nullable = true)\n",
      " |-- feedback: string (nullable = true)\n",
      "\n"
     ]
    }
   ],
   "source": [
    "df.printSchema()"
   ]
  },
  {
   "cell_type": "code",
   "execution_count": 6,
   "metadata": {},
   "outputs": [
    {
     "data": {
      "text/plain": [
       "([<matplotlib.axis.XTick at 0x113c84710>,\n",
       "  <matplotlib.axis.XTick at 0x114a0bb10>,\n",
       "  <matplotlib.axis.XTick at 0x114a0b810>],\n",
       " <a list of 3 Text xticklabel objects>)"
      ]
     },
     "execution_count": 6,
     "metadata": {},
     "output_type": "execute_result"
    },
    {
     "data": {
      "image/png": "[encoded data removed]",
      "text/plain": [
       "<Figure size 432x288 with 1 Axes>"
      ]
     },
     "metadata": {
      "needs_background": "light"
     },
     "output_type": "display_data"
    }
   ],
   "source": [
    "#Q1) Responses distribution and visualizing Skewed responses\n",
    " \n",
    "feedback_distribution = df.groupBy('feedback').count().collect()\n",
    "fb_type = [i[0] for i in feedback_distribution]\n",
    "counts = [i[1] for i in feedback_distribution]\n",
    " \n",
    "ind = np.array(range(len(fb_type)))\n",
    "width = 0.35\n",
    "plt.bar(ind, counts, width=width, color='b')\n",
    " \n",
    "plt.ylabel('Counts of Users')\n",
    "plt.title('Distribution of Feedback')\n",
    "plt.xticks(ind + width/2., fb_type)\n"
   ]
  },
  {
   "cell_type": "code",
   "execution_count": 7,
   "metadata": {},
   "outputs": [],
   "source": [
    "# since its assumed that data is skwed towards negetive feedback \n",
    "# hence here we can combine pos and neutral feedback together\n",
    "\n",
    "from pyspark.sql.functions import udf\n",
    "from pyspark.sql.types import StringType\n",
    " \n",
    "combine = lambda x: 'pos' if x == 'Neutral' else x\n",
    " \n",
    "udfcombine = udf(combine, StringType())\n",
    "df = df.withColumn(\"binary_response\", udfcombine(\"feedback\"))"
   ]
  },
  {
   "cell_type": "code",
   "execution_count": 8,
   "metadata": {},
   "outputs": [
    {
     "name": "stdout",
     "output_type": "stream",
     "text": [
      "+----------+-----------+-----------+--------+-----------+-----------+---------+--------+--------------+--------+---------------+\n",
      "|prod_price|prod_feat_1|prod_feat_2|cust_age|prod_feat_3|cust_region|prod_type|cust_sex|    cust_title|feedback|binary_response|\n",
      "+----------+-----------+-----------+--------+-----------+-----------+---------+--------+--------------+--------+---------------+\n",
      "|      1000|        1.2|        0.2|      34|          A|      south|     Home|       M|       manager|     pos|            pos|\n",
      "|     230.5|        3.3|       0.43|    null|          C|      south|     Home|       M|      director|     pos|            pos|\n",
      "|       121|       22.3|       1.01|      56|          D|      north| Cleaning|       F|      engineer| Neutral|            pos|\n",
      "|       628|        2.2|       0.86|      34|          V|       west|   Beauty|       M|      director|Negetive|       Negetive|\n",
      "|       887|       35.6|       1.08|      43|          A|      south| Cleaning|       F|senior_manager|     pos|            pos|\n",
      "|       281|        6.4|       1.47|      65|          F|      north|     Home|       M|          null| Neutral|            pos|\n",
      "|       556|        5.7|       1.03|      23|          Y|       west|     null|       M|       manager|     pos|            pos|\n",
      "|       654|        8.5|       1.61|       3|          B|       null|  Kitchen|       F|      director|     pos|            pos|\n",
      "|     888.8|       33.2|       1.37|      41|          D|      south|     Home|       F|      director|Negetive|       Negetive|\n",
      "|       891|       15.7|       1.27|      23|          S|      south|   Beauty|       M|senior_manager|     pos|            pos|\n",
      "+----------+-----------+-----------+--------+-----------+-----------+---------+--------+--------------+--------+---------------+\n",
      "only showing top 10 rows\n",
      "\n"
     ]
    }
   ],
   "source": [
    "df.show(10)"
   ]
  },
  {
   "cell_type": "code",
   "execution_count": 9,
   "metadata": {},
   "outputs": [],
   "source": [
    "# Q2)Filling NA values and casting data types\n",
    "# there are float, int and string data type which we can cast to the different columns.\n",
    "\n",
    "column_list = ['prod_price',\n",
    "               'prod_feat_1',\n",
    "               'prod_feat_2',\n",
    "               'cust_age',\n",
    "               'prod_feat_3',\n",
    "               'cust_region',\n",
    "               'prod_type',\n",
    "               'cust_sex',\n",
    "               'cust_title',\n",
    "               'feedback',\n",
    "               'binary_response']\n",
    "\n",
    "# Numerical columns areconverted to float values and integer\n",
    "# last columns from 4 to 11 are all string type \n",
    "\n",
    "df = df.select(df.prod_price.cast('float'), \n",
    "               df.prod_feat_1.cast('float'),\n",
    "               df.prod_feat_2.cast('float'),\n",
    "               df.cust_age.cast('int'),\n",
    "               *column_list[4:])\n",
    "\n",
    "# the missing values are filled with NA values \n",
    "\n",
    "df = df.fillna({'cust_region': 'NA', 'cust_title': 'NA', 'prod_type': 'NA'})\n"
   ]
  },
  {
   "cell_type": "code",
   "execution_count": 10,
   "metadata": {},
   "outputs": [
    {
     "name": "stdout",
     "output_type": "stream",
     "text": [
      "root\n",
      " |-- prod_price: float (nullable = true)\n",
      " |-- prod_feat_1: float (nullable = true)\n",
      " |-- prod_feat_2: float (nullable = true)\n",
      " |-- cust_age: integer (nullable = true)\n",
      " |-- prod_feat_3: string (nullable = true)\n",
      " |-- cust_region: string (nullable = false)\n",
      " |-- prod_type: string (nullable = false)\n",
      " |-- cust_sex: string (nullable = true)\n",
      " |-- cust_title: string (nullable = false)\n",
      " |-- feedback: string (nullable = true)\n",
      " |-- binary_response: string (nullable = true)\n",
      "\n"
     ]
    }
   ],
   "source": [
    "df.printSchema()"
   ]
  },
  {
   "cell_type": "code",
   "execution_count": 11,
   "metadata": {},
   "outputs": [
    {
     "name": "stdout",
     "output_type": "stream",
     "text": [
      "+----------+-----------+-----------+--------+-----------+-----------+---------+--------+--------------+--------+---------------+\n",
      "|prod_price|prod_feat_1|prod_feat_2|cust_age|prod_feat_3|cust_region|prod_type|cust_sex|    cust_title|feedback|binary_response|\n",
      "+----------+-----------+-----------+--------+-----------+-----------+---------+--------+--------------+--------+---------------+\n",
      "|    1000.0|        1.2|        0.2|      34|          A|      south|     Home|       M|       manager|     pos|            pos|\n",
      "|     230.5|        3.3|       0.43|    null|          C|      south|     Home|       M|      director|     pos|            pos|\n",
      "|     121.0|       22.3|       1.01|      56|          D|      north| Cleaning|       F|      engineer| Neutral|            pos|\n",
      "|     628.0|        2.2|       0.86|      34|          V|       west|   Beauty|       M|      director|Negetive|       Negetive|\n",
      "|     887.0|       35.6|       1.08|      43|          A|      south| Cleaning|       F|senior_manager|     pos|            pos|\n",
      "|     281.0|        6.4|       1.47|      65|          F|      north|     Home|       M|            NA| Neutral|            pos|\n",
      "|     556.0|        5.7|       1.03|      23|          Y|       west|       NA|       M|       manager|     pos|            pos|\n",
      "|     654.0|        8.5|       1.61|       3|          B|         NA|  Kitchen|       F|      director|     pos|            pos|\n",
      "|     888.8|       33.2|       1.37|      41|          D|      south|     Home|       F|      director|Negetive|       Negetive|\n",
      "|     891.0|       15.7|       1.27|      23|          S|      south|   Beauty|       M|senior_manager|     pos|            pos|\n",
      "+----------+-----------+-----------+--------+-----------+-----------+---------+--------+--------------+--------+---------------+\n",
      "only showing top 10 rows\n",
      "\n"
     ]
    }
   ],
   "source": [
    "df.show(10)"
   ]
  },
  {
   "cell_type": "code",
   "execution_count": 12,
   "metadata": {},
   "outputs": [
    {
     "name": "stdout",
     "output_type": "stream",
     "text": [
      "prod_feat_3 18\n",
      "cust_region 5\n",
      "prod_type 7\n",
      "cust_sex 2\n",
      "cust_title 8\n"
     ]
    }
   ],
   "source": [
    "# Q3)Check for categorical column that has too many discrete values\n",
    "# below code gives the value count of all the columns with discrete values\n",
    "\n",
    "for column in df.columns[4:-2]:\n",
    "    print(column, df.select(column).distinct().count())"
   ]
  },
  {
   "cell_type": "code",
   "execution_count": 13,
   "metadata": {},
   "outputs": [
    {
     "name": "stdout",
     "output_type": "stream",
     "text": [
      "+-----------+-----+\n",
      "|prod_feat_3|count|\n",
      "+-----------+-----+\n",
      "|          K|    1|\n",
      "|          F|    5|\n",
      "|          E|    1|\n",
      "|          T|    2|\n",
      "|          B|    4|\n",
      "|          Y|    2|\n",
      "|          V|    3|\n",
      "|          U|    1|\n",
      "|          D|    5|\n",
      "|          C|    3|\n",
      "|          J|    1|\n",
      "|          A|    4|\n",
      "|          N|    3|\n",
      "|          X|    2|\n",
      "|          S|    4|\n",
      "|          R|    2|\n",
      "|          G|    4|\n",
      "|          H|    4|\n",
      "+-----------+-----+\n",
      "\n"
     ]
    }
   ],
   "source": [
    "#prod_feat_3 has the highest number of discrete values ie 18\n",
    "\n",
    "prodFeat3_Count = df.groupBy(\"prod_feat_3\").count()\n",
    "prodFeat3_Count.show()"
   ]
  },
  {
   "cell_type": "code",
   "execution_count": 14,
   "metadata": {},
   "outputs": [],
   "source": [
    "# Q4)Group all the categories that rank lower than a threshold(assume) into one category, namely “MinorityCategory”\n",
    "\n",
    "from pyspark.sql.functions import udf\n",
    "from pyspark.sql.types import StringType\n",
    " \n",
    "# Here we choose the threshold value as 3\n",
    "thresholdValue = 3  \n",
    "\n",
    "prodFeat3_Count = df.groupBy(\"prod_feat_3\").count()\n",
    "df = df.join(prodFeat3_Count, \"prod_feat_3\", \"inner\")\n",
    " \n",
    "def changeMinValuesCat(originalColumn, columnCount):\n",
    "    if columnCount > thresholdValue:\n",
    "        return originalColumn\n",
    "    else:\n",
    "        return 'MinorityCategory'\n",
    "    \n",
    "udfmakeNewCol = udf(changeMinValuesCat, StringType())\n",
    "df = df.withColumn('prod_feat_3_new', udfmakeNewCol(df['prod_feat_3'], df['count']))\n",
    "df = df.drop('prod_feat_3')\n",
    "df = df.drop('count')"
   ]
  },
  {
   "cell_type": "code",
   "execution_count": 15,
   "metadata": {},
   "outputs": [
    {
     "name": "stdout",
     "output_type": "stream",
     "text": [
      "+----------------+-----+\n",
      "| prod_feat_3_new|count|\n",
      "+----------------+-----+\n",
      "|               F|    5|\n",
      "|MinorityCategory|   21|\n",
      "|               B|    4|\n",
      "|               D|    5|\n",
      "|               A|    4|\n",
      "|               S|    4|\n",
      "|               G|    4|\n",
      "|               H|    4|\n",
      "+----------------+-----+\n",
      "\n"
     ]
    }
   ],
   "source": [
    "# All the values below 4 are now grouped together in to one product_feature values named as : MinorityCategory\n",
    "\n",
    "prodFeat3_Count = df.groupBy(\"prod_feat_3_new\").count()\n",
    "prodFeat3_Count.show()"
   ]
  },
  {
   "cell_type": "code",
   "execution_count": 16,
   "metadata": {},
   "outputs": [
    {
     "name": "stdout",
     "output_type": "stream",
     "text": [
      "+----------+-----------+-----------+--------+-----------+---------+--------+--------------+--------+---------------+----------------+\n",
      "|prod_price|prod_feat_1|prod_feat_2|cust_age|cust_region|prod_type|cust_sex|    cust_title|feedback|binary_response| prod_feat_3_new|\n",
      "+----------+-----------+-----------+--------+-----------+---------+--------+--------------+--------+---------------+----------------+\n",
      "|    1000.0|        1.2|        0.2|      34|      south|     Home|       M|       manager|     pos|            pos|               A|\n",
      "|     230.5|        3.3|       0.43|      49|      south|     Home|       M|      director|     pos|            pos|MinorityCategory|\n",
      "|     121.0|       22.3|       1.01|      56|      north| Cleaning|       F|      engineer| Neutral|            pos|               D|\n",
      "|     628.0|        2.2|       0.86|      34|       west|   Beauty|       M|      director|Negetive|       Negetive|MinorityCategory|\n",
      "|     887.0|       35.6|       1.08|      43|      south| Cleaning|       F|senior_manager|     pos|            pos|               A|\n",
      "|     281.0|        6.4|       1.47|      65|      north|     Home|       M|            NA| Neutral|            pos|               F|\n",
      "|     556.0|        5.7|       1.03|      23|       west|       NA|       M|       manager|     pos|            pos|MinorityCategory|\n",
      "|     654.0|        8.5|       1.61|       3|         NA|  Kitchen|       F|      director|     pos|            pos|               B|\n",
      "|     888.8|       33.2|       1.37|      41|      south|     Home|       F|      director|Negetive|       Negetive|               D|\n",
      "|     891.0|       15.7|       1.27|      23|      south|   Beauty|       M|senior_manager|     pos|            pos|               S|\n",
      "+----------+-----------+-----------+--------+-----------+---------+--------+--------------+--------+---------------+----------------+\n",
      "only showing top 10 rows\n",
      "\n"
     ]
    }
   ],
   "source": [
    "df.show(10)"
   ]
  },
  {
   "cell_type": "code",
   "execution_count": 17,
   "metadata": {},
   "outputs": [],
   "source": [
    "# Q5)One-hot encoding categorical cols\n",
    "# there are 5 categorical coulumns hence we one hot encode them.\n",
    "# Since the input value is string hence we use StringIndexer first followed by OneHotEncoder\n",
    "\n",
    "\n",
    "from pyspark.ml.feature import StringIndexer\n",
    "from pyspark.ml.feature import OneHotEncoder\n",
    "\n",
    "\n",
    "column_index_vector_in = [ 'prod_feat_3_new',\n",
    "                          'cust_region', \n",
    "                          'prod_type', \n",
    "                          'cust_sex', \n",
    "                          'cust_title']\n",
    "\n",
    "column_encoder_vector_out = ['prod_feat_3_new_Vec',\n",
    "                             'cust_region_Vec', \n",
    "                             'prod_type_Vec',\n",
    "                             'cust_sex_Vec',\n",
    "                             'cust_title_Vec']\n",
    " \n",
    "indexers = [StringIndexer(inputCol=x, outputCol=x+'_index')\n",
    "            for x in column_index_vector_in ]\n",
    "\n",
    "encoders = [OneHotEncoder(dropLast=False, inputCol=x+'_index', outputCol=y)\n",
    "            for x, y in zip(column_index_vector_in, column_encoder_vector_out)]\n",
    "\n",
    "# encoders = [OneHotEncoderEstimator(dropLast=False, inputCols=x+'_tmp', outputCols=y)\n",
    "# for x,y in zip(column_vec_in, column_vec_out)]\n",
    "\n",
    "tmp = [[i,j] for i,j in zip(indexers, encoders)]\n",
    "tmp = [i for sublist in tmp for i in sublist]"
   ]
  },
  {
   "cell_type": "code",
   "execution_count": 18,
   "metadata": {},
   "outputs": [],
   "source": [
    "#Q6) Group all the predictors as ‘features’, and the response col as ‘label’. \n",
    "# Streamline the entire process which will do all the jobs sequentially for us\n",
    "\n",
    "from pyspark.ml.feature import VectorAssembler\n",
    "# from sklearn.pipeline import Pipeline\n",
    "from pyspark.ml import Pipeline\n",
    "\n",
    "# All the caloumns are stored together \n",
    "columns_now = ['prod_price',\n",
    "            'prod_feat_1',\n",
    "            'prod_feat_2',\n",
    "            'cust_age',\n",
    "            'prod_feat_3_new_Vec',\n",
    "            'cust_region_Vec',\n",
    "            'prod_type_Vec',\n",
    "            'cust_sex_Vec',\n",
    "            'cust_title_Vec']\n",
    "\n",
    "# features are defined\n",
    "assembler_features = VectorAssembler(inputCols=columns_now, outputCol='features')\n",
    "\n",
    "# labels are defined\n",
    "labelIndexer = StringIndexer(inputCol='binary_response', outputCol=\"label\")\n",
    "\n",
    "# values stores together to be passed to stage parameter of Pipeline\n",
    "tmp += [assembler_features, labelIndexer]\n",
    "\n",
    "# pipelining is the stream line process\n",
    "pipeline = Pipeline(stages=tmp)"
   ]
  },
  {
   "cell_type": "code",
   "execution_count": 19,
   "metadata": {},
   "outputs": [
    {
     "name": "stdout",
     "output_type": "stream",
     "text": [
      "root\n",
      " |-- prod_price: float (nullable = true)\n",
      " |-- prod_feat_1: float (nullable = true)\n",
      " |-- prod_feat_2: float (nullable = true)\n",
      " |-- cust_age: integer (nullable = true)\n",
      " |-- cust_region: string (nullable = false)\n",
      " |-- prod_type: string (nullable = false)\n",
      " |-- cust_sex: string (nullable = true)\n",
      " |-- cust_title: string (nullable = false)\n",
      " |-- feedback: string (nullable = true)\n",
      " |-- binary_response: string (nullable = true)\n",
      " |-- prod_feat_3_new: string (nullable = true)\n",
      "\n"
     ]
    }
   ],
   "source": [
    "df.printSchema()"
   ]
  },
  {
   "cell_type": "code",
   "execution_count": 20,
   "metadata": {},
   "outputs": [
    {
     "name": "stdout",
     "output_type": "stream",
     "text": [
      "Training Dataset Count: 39\n",
      "Test Dataset Count: 12\n"
     ]
    }
   ],
   "source": [
    "# Q7)Split into training and validation sets\n",
    "# pipelines is used further to transform and split to train and test in 70:30 ratio\n",
    "\n",
    "fullData = pipeline.fit(df).transform(df)\n",
    "fullData.cache()\n",
    "train, test = fullData.randomSplit([0.7,0.3], seed=200)\n",
    "print(\"Training Dataset Count: \" + str(train.count()))\n",
    "print(\"Test Dataset Count: \" + str(test.count()))\n"
   ]
  },
  {
   "cell_type": "code",
   "execution_count": 21,
   "metadata": {},
   "outputs": [],
   "source": [
    "# Q8)Prediction using Random forest and Evaluation of AUC\n",
    "\n",
    "rf = RF(labelCol='label', featuresCol='features',numTrees=10)"
   ]
  },
  {
   "cell_type": "code",
   "execution_count": 22,
   "metadata": {},
   "outputs": [],
   "source": [
    "# Fitting the training data to model\n",
    "fit = rf.fit(train)\n"
   ]
  },
  {
   "cell_type": "code",
   "execution_count": 23,
   "metadata": {},
   "outputs": [],
   "source": [
    "# Transforming the testing data to model\n",
    "transformed = fit.transform(test)"
   ]
  },
  {
   "cell_type": "code",
   "execution_count": 25,
   "metadata": {},
   "outputs": [
    {
     "name": "stdout",
     "output_type": "stream",
     "text": [
      "The ROC score is:  0.49999999999999994\n"
     ]
    }
   ],
   "source": [
    "# Getting the model results\n",
    "from pyspark.mllib.evaluation import BinaryClassificationMetrics as metric\n",
    "results = transformed.select(['probability', 'label'])\n",
    " \n",
    "results_collect = results.collect()\n",
    "results_list = [(float(i[0][0]), 1.0-float(i[1])) for i in results_collect]\n",
    "scoreAndLabels = sc.parallelize(results_list)\n",
    "\n",
    "# Finding the ROC (accuracy) of model\n",
    " \n",
    "metrics = metric(scoreAndLabels)\n",
    "print(\"The ROC score is: \", metrics.areaUnderROC)"
   ]
  },
  {
   "cell_type": "code",
   "execution_count": null,
   "metadata": {},
   "outputs": [],
   "source": [
    "# The performance of the model is not very good. the accuracy is around 50%.\n",
    "# this can be further improved if can do some up or down sampling with our data.\n",
    "# since currently its biased towards negetive class.\n",
    "# Also since we had too few data points which also add to the reson of poor performnce.As here we had created dummy data\n",
    "# Lesser number of trees(numTrees) as spark was giving memory issues for more number of trees.\n",
    "# hence more nuber of trees can be used for better results."
   ]
  },
  {
   "cell_type": "code",
   "execution_count": 31,
   "metadata": {},
   "outputs": [
    {
     "data": {
      "image/png": "[encoded data removed]",
      "text/plain": [
       "<Figure size 432x288 with 1 Axes>"
      ]
     },
     "metadata": {
      "needs_background": "light"
     },
     "output_type": "display_data"
    }
   ],
   "source": [
    "# Plotting the ROC curve from the results\n",
    " \n",
    "fpr = dict()\n",
    "tpr = dict()\n",
    "roc_auc = dict()\n",
    " \n",
    "y_test = [i[1] for i in results_list]\n",
    "y_score = [i[0] for i in results_list]\n",
    " \n",
    "fpr, tpr, _ = roc_curve(y_test, y_score)\n",
    "roc_auc = auc(fpr, tpr)\n",
    " \n",
    "%matplotlib inline\n",
    "plt.figure()\n",
    "plt.plot(fpr, tpr, label='ROC curve (area = %0.2f)' % roc_auc)\n",
    "plt.plot([0, 1], [0, 1], 'k--')\n",
    "plt.xlim([0.0, 1.0])\n",
    "plt.ylim([0.0, 1.05])\n",
    "plt.xlabel('False Positive Rate')\n",
    "plt.ylabel('True Positive Rate')\n",
    "plt.title('Receiver Operating Characteristic')\n",
    "plt.legend(loc=\"lower right\")\n",
    "plt.show()"
   ]
  },
  {
   "cell_type": "code",
   "execution_count": 36,
   "metadata": {},
   "outputs": [
    {
     "name": "stderr",
     "output_type": "stream",
     "text": [
      "/opt/anaconda3/lib/python3.7/site-packages/ipykernel_launcher.py:9: MatplotlibDeprecationWarning: \n",
      "The 'normed' kwarg was deprecated in Matplotlib 2.1 and will be removed in 3.1. Use 'density' instead.\n",
      "  if __name__ == '__main__':\n"
     ]
    },
    {
     "data": {
      "image/png": "[encoded data removed]",
      "text/plain": [
       "<Figure size 432x288 with 1 Axes>"
      ]
     },
     "metadata": {
      "needs_background": "light"
     },
     "output_type": "display_data"
    }
   ],
   "source": [
    "# Q9)Understand model’s performance, Plot the distribution of our predictions\n",
    "\n",
    "all_prob_val = transformed.select(\"probability\").collect()\n",
    "pos_prob_val = [i[0][0] for i in all_prob_val]\n",
    "neg_prob_val = [i[0][1] for i in all_prob_val]\n",
    " \n",
    "from matplotlib import pyplot as plt\n",
    "%matplotlib inline\n",
    " \n",
    "# pos\n",
    "plt.hist(pos_prob_val, 50, normed=1, facecolor='blue', alpha=0.80)\n",
    "plt.xlabel('PredictedValues')\n",
    "plt.ylabel('CountsofCustomers')\n",
    "plt.title('Probabilities for Positive cases')\n",
    "plt.grid(True)\n",
    "plt.show()"
   ]
  },
  {
   "cell_type": "code",
   "execution_count": 35,
   "metadata": {},
   "outputs": [
    {
     "name": "stderr",
     "output_type": "stream",
     "text": [
      "/opt/anaconda3/lib/python3.7/site-packages/ipykernel_launcher.py:2: MatplotlibDeprecationWarning: \n",
      "The 'normed' kwarg was deprecated in Matplotlib 2.1 and will be removed in 3.1. Use 'density' instead.\n",
      "  \n"
     ]
    },
    {
     "data": {
      "image/png": "[encoded data removed]",
      "text/plain": [
       "<Figure size 432x288 with 1 Axes>"
      ]
     },
     "metadata": {
      "needs_background": "light"
     },
     "output_type": "display_data"
    }
   ],
   "source": [
    "# neg\n",
    "plt.hist(neg_prob_val, 50, normed=1, facecolor='green', alpha=0.85)\n",
    "plt.xlabel('PredictedValues')\n",
    "plt.ylabel('CountsofCustomers')\n",
    "plt.title('Probabilities for Negative cases')\n",
    "plt.grid(True)\n",
    "plt.show()"
   ]
  },
  {
   "cell_type": "code",
   "execution_count": null,
   "metadata": {},
   "outputs": [],
   "source": []
  },
  {
   "cell_type": "code",
   "execution_count": null,
   "metadata": {},
   "outputs": [],
   "source": []
  },
  {
   "cell_type": "code",
   "execution_count": null,
   "metadata": {},
   "outputs": [],
   "source": []
  },
  {
   "cell_type": "code",
   "execution_count": null,
   "metadata": {},
   "outputs": [],
   "source": []
  }
 ],
 "metadata": {
  "kernelspec": {
   "display_name": "Python 3",
   "language": "python",
   "name": "python3"
  },
  "language_info": {
   "codemirror_mode": {
    "name": "ipython",
    "version": 3
   },
   "file_extension": ".py",
   "mimetype": "text/x-python",
   "name": "python",
   "nbconvert_exporter": "python",
   "pygments_lexer": "ipython3",
   "version": "3.7.4"
  }
 },
 "nbformat": 4,
 "nbformat_minor": 2
}
